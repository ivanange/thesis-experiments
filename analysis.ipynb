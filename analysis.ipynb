{
 "cells": [
  {
   "cell_type": "code",
   "execution_count": 5,
   "metadata": {},
   "outputs": [],
   "source": [
    "import os\n",
    "import numpy as np\n",
    "import pandas as pd\n",
    "import pickle\n",
    "from sksurv.svm import FastKernelSurvivalSVM\n",
    "from sklearn.metrics.pairwise import pairwise_kernels\n"
   ]
  },
  {
   "cell_type": "code",
   "execution_count": 7,
   "metadata": {},
   "outputs": [],
   "source": [
    "alpha=0.05\n",
    "gamma=0.5\n",
    "degree=3\n",
    "beta=0.8\n",
    "random_state=0\n",
    "\n",
    "def gramMatrix(X1, X2, K_function):\n",
    "    gram_matrix = np.zeros((X1.shape[0], X2.shape[0]))\n",
    "    for i, x1 in enumerate(X1):\n",
    "        for j, x2 in enumerate(X2):\n",
    "            gram_matrix[i, j] = K_function(x1, x2)\n",
    "    return gram_matrix\n",
    "\n",
    "kernels = {\n",
    "    'power': lambda x: gramMatrix(x, x, lambda x1, x2: np.clip(-np.linalg.norm(x1 - x2)**beta, 2e-100, 2e100)),\n",
    "    'log': lambda x:  gramMatrix(x, x, lambda x1, x2: np.clip(-np.log(1 + np.linalg.norm(x1 - x2, axis=0)**beta), 2e-100, 2e100)),\n",
    "    'mixture': lambda x: np.clip(alpha * pairwise_kernels(x, metric='rbf', gamma=gamma) + (1-alpha)*pairwise_kernels(x, metric='poly', degree=degree), 2e-100, 2e100),\n",
    "}"
   ]
  },
  {
   "cell_type": "code",
   "execution_count": 2,
   "metadata": {},
   "outputs": [
    {
     "name": "stdout",
     "output_type": "stream",
     "text": [
      "0.5\n"
     ]
    }
   ],
   "source": [
    "MODELS_DIR='models'\n",
    "# load model\n",
    "model_file = open(os.path.join(MODELS_DIR, 'dataset_reduced.csv_SIFT_.npy_log_26-01-2023 06-55-40_model.sav'), 'rb')\n",
    "model = pickle.load(model_file)\n",
    "print(model.score)\n",
    "\n"
   ]
  },
  {
   "cell_type": "code",
   "execution_count": 3,
   "metadata": {},
   "outputs": [
    {
     "name": "stdout",
     "output_type": "stream",
     "text": [
      "{'fit_time': array([0.14061165, 0.09375715, 0.07812738, 0.07813907]), 'score_time': array([0.        , 0.01561785, 0.        , 0.01562166]), 'test_score': array([0.5, 0.5, 0.5, 0.5]), 'train_score': array([0.5, 0.5, 0.5, 0.5])}\n"
     ]
    }
   ],
   "source": [
    "print(model.cv_results)"
   ]
  },
  {
   "cell_type": "code",
   "execution_count": 4,
   "metadata": {},
   "outputs": [
    {
     "data": {
      "text/plain": [
       "1091"
      ]
     },
     "execution_count": 4,
     "metadata": {},
     "output_type": "execute_result"
    }
   ],
   "source": [
    "dataset = np.load(os.path.join('features', 'dataset_reduced.csv_SIFT_.npy'), allow_pickle=True)\n",
    "len(dataset)"
   ]
  },
  {
   "cell_type": "code",
   "execution_count": 8,
   "metadata": {},
   "outputs": [],
   "source": [
    "x = np.delete(dataset, [-3, -2, -1], axis=1).astype(np.float16)"
   ]
  },
  {
   "cell_type": "code",
   "execution_count": 11,
   "metadata": {},
   "outputs": [
    {
     "data": {
      "text/plain": [
       "True"
      ]
     },
     "execution_count": 11,
     "metadata": {},
     "output_type": "execute_result"
    }
   ],
   "source": [
    "model.coef_ == None"
   ]
  },
  {
   "cell_type": "code",
   "execution_count": 9,
   "metadata": {},
   "outputs": [
    {
     "ename": "AttributeError",
     "evalue": "'FastKernelSurvivalSVM' object has no attribute 'fit_X_'",
     "output_type": "error",
     "traceback": [
      "\u001b[1;31m---------------------------------------------------------------------------\u001b[0m",
      "\u001b[1;31mAttributeError\u001b[0m                            Traceback (most recent call last)",
      "Cell \u001b[1;32mIn[9], line 1\u001b[0m\n\u001b[1;32m----> 1\u001b[0m y \u001b[38;5;241m=\u001b[39m \u001b[43mmodel\u001b[49m\u001b[38;5;241;43m.\u001b[39;49m\u001b[43mpredict\u001b[49m\u001b[43m(\u001b[49m\u001b[43mx\u001b[49m\u001b[43m)\u001b[49m\n\u001b[0;32m      2\u001b[0m y\n",
      "File \u001b[1;32mi:\\programs\\Anaconda\\envs\\thesis\\lib\\site-packages\\sksurv\\svm\\survival_svm.py:1087\u001b[0m, in \u001b[0;36mFastKernelSurvivalSVM.predict\u001b[1;34m(self, X)\u001b[0m\n\u001b[0;32m   1072\u001b[0m \u001b[39m\"\"\"Rank samples according to survival times\u001b[39;00m\n\u001b[0;32m   1073\u001b[0m \n\u001b[0;32m   1074\u001b[0m \u001b[39mLower ranks indicate shorter survival, higher ranks longer survival.\u001b[39;00m\n\u001b[1;32m   (...)\u001b[0m\n\u001b[0;32m   1084\u001b[0m \u001b[39m    Predicted ranks.\u001b[39;00m\n\u001b[0;32m   1085\u001b[0m \u001b[39m\"\"\"\u001b[39;00m\n\u001b[0;32m   1086\u001b[0m X \u001b[39m=\u001b[39m \u001b[39mself\u001b[39m\u001b[39m.\u001b[39m_validate_data(X, reset\u001b[39m=\u001b[39m\u001b[39mFalse\u001b[39;00m)\n\u001b[1;32m-> 1087\u001b[0m kernel_mat \u001b[39m=\u001b[39m \u001b[39mself\u001b[39m\u001b[39m.\u001b[39m_get_kernel(X, \u001b[39mself\u001b[39;49m\u001b[39m.\u001b[39;49mfit_X_)\n\u001b[0;32m   1089\u001b[0m val \u001b[39m=\u001b[39m np\u001b[39m.\u001b[39mdot(kernel_mat, \u001b[39mself\u001b[39m\u001b[39m.\u001b[39mcoef_)\n\u001b[0;32m   1090\u001b[0m \u001b[39mif\u001b[39;00m \u001b[39mhasattr\u001b[39m(\u001b[39mself\u001b[39m, \u001b[39m\"\u001b[39m\u001b[39mintercept_\u001b[39m\u001b[39m\"\u001b[39m):\n",
      "\u001b[1;31mAttributeError\u001b[0m: 'FastKernelSurvivalSVM' object has no attribute 'fit_X_'"
     ]
    }
   ],
   "source": [
    "y = model.predict(x)\n",
    "y"
   ]
  }
 ],
 "metadata": {
  "kernelspec": {
   "display_name": "Python 3.10.8 ('thesis')",
   "language": "python",
   "name": "python3"
  },
  "language_info": {
   "codemirror_mode": {
    "name": "ipython",
    "version": 3
   },
   "file_extension": ".py",
   "mimetype": "text/x-python",
   "name": "python",
   "nbconvert_exporter": "python",
   "pygments_lexer": "ipython3",
   "version": "3.10.8"
  },
  "orig_nbformat": 4,
  "vscode": {
   "interpreter": {
    "hash": "0184c18853e8e47cfb82ea90866ea80d762664769a021ef45f73f671c1a896cd"
   }
  }
 },
 "nbformat": 4,
 "nbformat_minor": 2
}
