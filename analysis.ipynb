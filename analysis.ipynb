{
 "cells": [
  {
   "cell_type": "code",
   "execution_count": 1,
   "metadata": {},
   "outputs": [],
   "source": [
    "import os\n",
    "import numpy as np\n",
    "import pandas as pd\n",
    "import pickle"
   ]
  },
  {
   "cell_type": "code",
   "execution_count": 2,
   "metadata": {},
   "outputs": [
    {
     "name": "stdout",
     "output_type": "stream",
     "text": [
      "0.8325563872692063\n"
     ]
    }
   ],
   "source": [
    "MODELS_DIR='models'\n",
    "# load model\n",
    "model_file = open(os.path.join(MODELS_DIR, 'dataset_reduced.csv_HOG__power_19-01-2023 18-42-58_model.sav'), 'rb')\n",
    "model = pickle.load(model_file)\n",
    "print(model.score)\n",
    "\n"
   ]
  },
  {
   "cell_type": "code",
   "execution_count": 3,
   "metadata": {},
   "outputs": [
    {
     "name": "stdout",
     "output_type": "stream",
     "text": [
      "{'fit_time': array([0.24032664, 0.22512603, 0.22271538, 0.23613524]), 'score_time': array([0.0044899 , 0.0054245 , 0.00472212, 0.00483465]), 'test_score': array([0.85876349, 0.7881519 , 0.83568457, 0.84762558]), 'train_score': array([0.86815357, 0.88444292, 0.87377594, 0.87021472])}\n"
     ]
    }
   ],
   "source": [
    "print(model.cv_results)"
   ]
  }
 ],
 "metadata": {
  "kernelspec": {
   "display_name": "Python 3.10.8 ('thesis')",
   "language": "python",
   "name": "python3"
  },
  "language_info": {
   "codemirror_mode": {
    "name": "ipython",
    "version": 3
   },
   "file_extension": ".py",
   "mimetype": "text/x-python",
   "name": "python",
   "nbconvert_exporter": "python",
   "pygments_lexer": "ipython3",
   "version": "3.10.8"
  },
  "orig_nbformat": 4,
  "vscode": {
   "interpreter": {
    "hash": "0184c18853e8e47cfb82ea90866ea80d762664769a021ef45f73f671c1a896cd"
   }
  }
 },
 "nbformat": 4,
 "nbformat_minor": 2
}
