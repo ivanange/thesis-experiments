{
 "cells": [
  {
   "cell_type": "code",
   "execution_count": 1,
   "metadata": {},
   "outputs": [
    {
     "name": "stderr",
     "output_type": "stream",
     "text": [
      "Intel(R) Extension for Scikit-learn* enabled (https://github.com/intel/scikit-learn-intelex)\n"
     ]
    }
   ],
   "source": [
    "import os\n",
    "import numpy as np\n",
    "import pandas as pd\n",
    "import pickle\n",
    "from sksurv.svm import FastKernelSurvivalSVM\n",
    "from sklearn.metrics.pairwise import pairwise_kernels\n",
    "from sklearn.model_selection import train_test_split\n",
    "from joblib import dump, load\n",
    "import pickle\n"
   ]
  },
  {
   "cell_type": "code",
   "execution_count": 2,
   "metadata": {},
   "outputs": [],
   "source": [
    "experiments = {\n",
    "    'sift' : {\n",
    "        'dataset':  'features/dataset_reduced.csv_SIFT_.npy',\n",
    "        'model': {\n",
    "            'log': 'models/dataset_reduced.csv_SIFT_.npy_log_01-02-2023 06-29-21_model.sav',\n",
    "            'power': 'models/dataset_reduced.csv_SIFT_.npy_power_01-02-2023 07-07-27_model.sav',\n",
    "            'mixture': 'models/dataset_reduced.csv_SIFT_.npy_mixture_31-01-2023 13-20-17_model.sav',\n",
    "        },\n",
    "        'scores': {\n",
    "            'log': 'scores/dataset_reduced.csv_SIFT_.npy_log_26-01-2023 06-55-40_model.sav',\n",
    "            'power': 'scores/dataset_reduced.csv_SIFT_.npy_power_25-01-2023 16-32-18_model.sav',\n",
    "            'mixture': 'scores/dataset_reduced.csv_SIFT_.npy_mixture_25-01-2023 22-27-27_model.sav',\n",
    "        },\n",
    "    },\n",
    "    'hog' : {\n",
    "        'dataset':  'features/dataset_reduced.csv_HOG_.npy',\n",
    "        'model': {\n",
    "            'log': 'models/dataset_reduced.csv_HOG_.npy_log_01-02-2023 06-57-32_model.sav',\n",
    "            'power': 'models/dataset_reduced.csv_HOG_.npy_power_01-02-2023 07-46-17_model.sav',\n",
    "            'mixture': 'models/dataset_reduced.csv_HOG_.npy_mixture_03-02-2023 13-19-27_model.sav',\n",
    "        },\n",
    "        'scores': {\n",
    "            'log': 'scores/dataset_reduced.csv_HOG_.npy_log_20-01-2023 22-29-15_model.sav',\n",
    "            'power': 'scores/dataset_reduced.csv_HOG__power_19-01-2023 18-42-58_model.sav',\n",
    "            'mixture': 'scores/dataset_reduced.csv_HOG_.npy_mixture_23-01-2023 14-34-38_model.sav',\n",
    "        }, \n",
    "    },\n",
    "    'kdesa' : {\n",
    "        'dataset':  'features/dataset_reduced.csv_KDESA_.npy',\n",
    "        'model': {\n",
    "            'log': 'models/dataset_reduced.csv_KDESA_.npy_log_03-02-2023 22-47-11_model.sav',\n",
    "            'power': 'models/dataset_reduced.csv_KDESA_.npy_power_03-02-2023 22-44-27_model.sav',\n",
    "            'mixture': 'models/dataset_reduced.csv_KDESA_.npy_mixture_03-02-2023 13-01-11_model.sav',\n",
    "        }, \n",
    "        'scores': {\n",
    "            'log': 'scores/dataset_reduced.csv_KDESA_.npy_log_21-01-2023 07-35-41_model.sav',\n",
    "            'power': 'scores/dataset_reduced.csv_KDESA_.npy_power_21-01-2023 06-10-39_model.sav',\n",
    "            'mixture': 'scores/dataset_reduced.csv_KDESA_.npy_mixture_23-01-2023 14-41-13_model.sav',\n",
    "        },\n",
    "    },\n",
    "}"
   ]
  },
  {
   "cell_type": "code",
   "execution_count": 3,
   "metadata": {},
   "outputs": [],
   "source": [
    "alpha=0.05\n",
    "gamma=0.5\n",
    "degree=3\n",
    "beta=0.8\n",
    "random_state=0\n",
    "\n",
    "def gramMatrix(X1, X2, K_function):\n",
    "    gram_matrix = np.zeros((X1.shape[0], X2.shape[0]))\n",
    "    for i, x1 in enumerate(X1):\n",
    "        for j, x2 in enumerate(X2):\n",
    "            gram_matrix[i, j] = K_function(x1, x2)\n",
    "    return gram_matrix\n",
    "\n",
    "kernels = {\n",
    "    'power': lambda x: gramMatrix(x, x, lambda x1, x2: np.clip(-np.linalg.norm(x1 - x2)**beta, 2e-100, 2e100)),\n",
    "    'log': lambda x:  gramMatrix(x, x, lambda x1, x2: np.clip(-np.log(1 + np.linalg.norm(x1 - x2, axis=0)**beta), 2e-100, 2e100)),\n",
    "    'mixture': lambda x: np.clip(alpha * pairwise_kernels(x, metric='rbf', gamma=gamma) + (1-alpha)*pairwise_kernels(x, metric='poly', degree=degree), 2e-100, 2e100),\n",
    "}"
   ]
  },
  {
   "cell_type": "code",
   "execution_count": 4,
   "metadata": {},
   "outputs": [],
   "source": [
    "# create dataframe to store results\n",
    "results = pd.DataFrame(columns=['dataset', 'kernel', 'c-index', 'time boundary' 'accuracy','precision', 'f1', 'auc'])"
   ]
  },
  {
   "cell_type": "code",
   "execution_count": 6,
   "metadata": {},
   "outputs": [
    {
     "name": "stdout",
     "output_type": "stream",
     "text": [
      "Feature: sift\n",
      "Kernel: log\n",
      "c-index: 0.5\n",
      "[0. 0. 0. ... 0. 0. 0.]\n"
     ]
    },
    {
     "name": "stderr",
     "output_type": "stream",
     "text": [
      "/home/melatagia/ivan/conda/envs/thesis/lib/python3.10/site-packages/numpy/linalg/linalg.py:2542: RuntimeWarning: overflow encountered in reduce\n",
      "  return sqrt(add.reduce(s, axis=axis, keepdims=keepdims))\n"
     ]
    }
   ],
   "source": [
    "for (feature, data) in experiments.items():\n",
    "    print(f'Feature: {feature}')\n",
    "    dataset = np.load(data['dataset'])\n",
    "    x = np.delete(dataset, [-3, -2, -1], axis=1).astype(np.float16)\n",
    "    sample_indices = np.random.choice(x.shape[0], int(0.2 * x.shape[0]), False)\n",
    "    labels = dataset[:, [-3, -2, -1]].astype(np.int8) # labels: 1 - invalid, 0 - valid\n",
    "    # X, labels_sample = (x[sample_indices, :], labels[sample_indices, :])\n",
    "    # y = labels_sample[:, -1].astype(np.int8) # labels: 1 - invalid, 0 - valid\n",
    "    \n",
    "    for (kernel_name, model_path) in data['model'].items():\n",
    "        print(f'Kernel: {kernel_name}')\n",
    "        \n",
    "        scores = pickle.load(open(data['scores'][kernel_name], 'rb'))\n",
    "        print(f'c-index: {scores.score}')\n",
    "        \n",
    "        model = load(open(model_path, 'rb'))\n",
    "        print(model.coef_)\n",
    "        \n",
    "        kernel = kernels[kernel_name]\n",
    "        kernel_matrix = kernel(x)\n",
    "        # save kernel matrix with labels\n",
    "        np.save(f'kernel_matrices/{feature}_{kernel_name}_kernel_matrix.npy', kernel_matrix)\n",
    "        np.save(f'kernel_matrices/{feature}_{kernel_name}_labels.npy', labels)\n",
    "        \n",
    "        times = model.predict(x)\n",
    "        print(times)"
   ]
  },
  {
   "cell_type": "code",
   "execution_count": null,
   "metadata": {},
   "outputs": [
    {
     "data": {
      "text/plain": [
       "'i:\\\\projets\\\\school\\\\Thesis\\\\experiments'"
      ]
     },
     "execution_count": 12,
     "metadata": {},
     "output_type": "execute_result"
    }
   ],
   "source": [
    "# get cwd\n",
    "cwd = os.getcwd()\n",
    "cwd"
   ]
  },
  {
   "cell_type": "code",
   "execution_count": null,
   "metadata": {},
   "outputs": [
    {
     "name": "stdout",
     "output_type": "stream",
     "text": [
      "{'fit_time': array([0.14061165, 0.09375715, 0.07812738, 0.07813907]), 'score_time': array([0.        , 0.01561785, 0.        , 0.01562166]), 'test_score': array([0.5, 0.5, 0.5, 0.5]), 'train_score': array([0.5, 0.5, 0.5, 0.5])}\n"
     ]
    }
   ],
   "source": [
    "print(model.cv_results)"
   ]
  }
 ],
 "metadata": {
  "kernelspec": {
   "display_name": "Python 3 (ipykernel)",
   "language": "python",
   "name": "python3"
  },
  "language_info": {
   "codemirror_mode": {
    "name": "ipython",
    "version": 3
   },
   "file_extension": ".py",
   "mimetype": "text/x-python",
   "name": "python",
   "nbconvert_exporter": "python",
   "pygments_lexer": "ipython3",
   "version": "3.10.9"
  },
  "orig_nbformat": 4,
  "vscode": {
   "interpreter": {
    "hash": "0184c18853e8e47cfb82ea90866ea80d762664769a021ef45f73f671c1a896cd"
   }
  }
 },
 "nbformat": 4,
 "nbformat_minor": 2
}
